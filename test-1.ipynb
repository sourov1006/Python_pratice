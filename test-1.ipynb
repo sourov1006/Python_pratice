{
 "cells": [
  {
   "cell_type": "code",
   "execution_count": 3,
   "id": "manufactured-convention",
   "metadata": {},
   "outputs": [
    {
     "name": "stdout",
     "output_type": "stream",
     "text": [
      "Enter radius value: 1.1\n"
     ]
    },
    {
     "data": {
      "text/plain": [
       "'3.8013271108436504'"
      ]
     },
     "execution_count": 3,
     "metadata": {},
     "output_type": "execute_result"
    }
   ],
   "source": [
    "# Write a Python program which accepts the radius of a circle from the user and compute the area.\n",
    "\n",
    "r = float(input(\"Enter radius value: \"))\n",
    "Area = str(3.141592653589793238 * r * r)\n",
    "Area"
   ]
  },
  {
   "cell_type": "code",
   "execution_count": 10,
   "id": "valuable-puppy",
   "metadata": {},
   "outputs": [
    {
     "name": "stdout",
     "output_type": "stream",
     "text": [
      "Input your First Name : Dany\n",
      "Input your Last Name : Boon\n",
      "Hello  Boon Dany\n"
     ]
    }
   ],
   "source": [
    "# Write a Python program which accepts the user's first and last name and print them in reverse order with a space between them.\n",
    "\n",
    "firstname = input(\"Input your First Name : \")\n",
    "lastname = input(\"Input your Last Name : \")\n",
    "print (\"Hello  \" + lastname + \" \" + firstname)"
   ]
  },
  {
   "cell_type": "code",
   "execution_count": 9,
   "id": "consecutive-upper",
   "metadata": {},
   "outputs": [
    {
     "name": "stdout",
     "output_type": "stream",
     "text": [
      "Input your string: Bangladesh\n",
      "string Langht:  10\n"
     ]
    }
   ],
   "source": [
    "# Write a Python program to calculate the length of a string.\n",
    "\n",
    "string = input(\"Input your string: \")\n",
    "langht_value = len(string)\n",
    "print(\"string Langht: \", langht_value)"
   ]
  },
  {
   "cell_type": "code",
   "execution_count": 14,
   "id": "smoking-professional",
   "metadata": {},
   "outputs": [
    {
     "name": "stdout",
     "output_type": "stream",
     "text": [
      "Input your string: google.com\n"
     ]
    },
    {
     "data": {
      "text/plain": [
       "{'g': 2, 'o': 3, 'l': 1, 'e': 1, '.': 1, 'c': 1, 'm': 1}"
      ]
     },
     "execution_count": 14,
     "metadata": {},
     "output_type": "execute_result"
    }
   ],
   "source": [
    "# Write a Python program to count the number of characters (character frequency) in a string.\n",
    "\n",
    "string = input(\"Input your string: \")\n",
    "character_frequency= {}\n",
    "for i in string:\n",
    "    if i in character_frequency:\n",
    "        character_frequency[i] += 1\n",
    "    else:\n",
    "        character_frequency[i] = 1\n",
    "character_frequency"
   ]
  },
  {
   "cell_type": "code",
   "execution_count": 20,
   "id": "completed-contributor",
   "metadata": {},
   "outputs": [
    {
     "name": "stdout",
     "output_type": "stream",
     "text": [
      "Enter First String : abc\n",
      "Enter Second String : xyz\n",
      "First string xyc,second string abz\n"
     ]
    }
   ],
   "source": [
    "# Write a Python program to get a single string from two given strings, separated by a space and swap the first two characters of each string.\n",
    "\n",
    "string1 = input(\"Enter First String : \")\n",
    "string2 =input(\"Enter Second String : \")\n",
    "x=string1[0:2]\n",
    "string1=string1.replace(string1[0:2],string2[0:2])\n",
    "string2=string2.replace(string2[0:2],x)\n",
    "print(\"First string {},second string {}\".format(string1,string2))"
   ]
  },
  {
   "cell_type": "code",
   "execution_count": 38,
   "id": "headed-weekly",
   "metadata": {},
   "outputs": [
    {
     "name": "stdout",
     "output_type": "stream",
     "text": [
      "Enter String : abc\n",
      "abcing\n"
     ]
    }
   ],
   "source": [
    "# Write a Python program to add 'ing' at the end of a given string (length should be at least 3) If the given string already ends with 'ing' then add 'ly' instead. If the string length of the given string is less than 3, leave it unchanged.\n",
    "\n",
    "string = input(\"Enter String : \")\n",
    "len(string)> 2\n",
    "if string[-3:] == \"ing\":\n",
    "    print(string + \"ly\")\n",
    "else:\n",
    "    print(string + \"ing\")"
   ]
  },
  {
   "cell_type": "code",
   "execution_count": 94,
   "id": "assisted-audience",
   "metadata": {},
   "outputs": [
    {
     "data": {
      "text/plain": [
       "27"
      ]
     },
     "execution_count": 94,
     "metadata": {},
     "output_type": "execute_result"
    }
   ],
   "source": [
    "# Write a Python program to sum all the items in a list.\n",
    "\n",
    "list_vlu = [2,3,4,5,6,7]\n",
    "list_sum = 0\n",
    "for i in range(0, len(list_vlu)):\n",
    "    list_sum += list_vlu[i]\n",
    "list_sum"
   ]
  },
  {
   "cell_type": "code",
   "execution_count": 47,
   "id": "surgical-pledge",
   "metadata": {},
   "outputs": [
    {
     "data": {
      "text/plain": [
       "120"
      ]
     },
     "execution_count": 47,
     "metadata": {},
     "output_type": "execute_result"
    }
   ],
   "source": [
    "# Write a Python program to multiply all the items in a list.\n",
    "\n",
    "list_vlu = [1,2,3,4,5]\n",
    "list_mul = 1\n",
    "for i in range(0, len(list_vlu)):\n",
    "    list_mul *= list_vlu[i]\n",
    "list_mul"
   ]
  },
  {
   "cell_type": "code",
   "execution_count": 50,
   "id": "contemporary-internet",
   "metadata": {},
   "outputs": [
    {
     "data": {
      "text/plain": [
       "99"
      ]
     },
     "execution_count": 50,
     "metadata": {},
     "output_type": "execute_result"
    }
   ],
   "source": [
    "# Write a Python program to get the largest number from a list.\n",
    "\n",
    "list_vlu = [10, 20, 4, 45, 99, 22, 37]\n",
    "largest_number = max(list_vlu)\n",
    "largest_number"
   ]
  },
  {
   "cell_type": "code",
   "execution_count": 51,
   "id": "patient-circular",
   "metadata": {},
   "outputs": [
    {
     "name": "stdout",
     "output_type": "stream",
     "text": [
      "[1, 2, 3, 4, 5, 6]\n"
     ]
    }
   ],
   "source": [
    "# Write a Python program to remove duplicates from a list.\n",
    "\n",
    "list_vlu = [1,1,2,3,2,2,4,5,6,2,1,3,4,6,6]\n",
    "remove_duplicate= set(list_vlu)\n",
    "print(list(remove_duplicate))"
   ]
  },
  {
   "cell_type": "code",
   "execution_count": 81,
   "id": "fresh-adams",
   "metadata": {},
   "outputs": [
    {
     "data": {
      "text/plain": [
       "['Green', 'White', 'Black']"
      ]
     },
     "execution_count": 81,
     "metadata": {},
     "output_type": "execute_result"
    }
   ],
   "source": [
    "# Write a Python program to print a specified list after removing the 0th, 4th and 5th elements.\n",
    "\n",
    "color = ['Red', 'Green', 'White', 'Black', 'Pink', 'Yellow']\n",
    "newlist = []  \n",
    "for x in range(0,len(color)):\n",
    "    if x not in (0,4,5):\n",
    "        newlist.append(color[x]) \n",
    "newlist"
   ]
  },
  {
   "cell_type": "code",
   "execution_count": 28,
   "id": "solved-picture",
   "metadata": {},
   "outputs": [
    {
     "name": "stdout",
     "output_type": "stream",
     "text": [
      "Enter range: 5\n",
      "['p1', 'q1', 'p2', 'q2', 'p3', 'q3', 'p4', 'q4', 'p5', 'q5']\n"
     ]
    }
   ],
   "source": [
    "# Write a Python program to create a list by concatenating a given list which range goes from 1 to n. \n",
    "\n",
    "list_vlu = ['p', 'q']\n",
    "n = int(input(\"Enter range: \"))\n",
    "new_list = []\n",
    "for y in range(1, n+1):\n",
    "    for x in list_vlu:\n",
    "        new_list.append(\"{}{}\".format(x,y))\n",
    "print(new_list)"
   ]
  },
  {
   "cell_type": "code",
   "execution_count": 72,
   "id": "preliminary-segment",
   "metadata": {},
   "outputs": [
    {
     "name": "stdout",
     "output_type": "stream",
     "text": [
      "[1, 0, 3, 2, 5, 4]\n"
     ]
    }
   ],
   "source": [
    "# Write a Python program to change the position of every n-th value with the (n+1) th in a list. \n",
    "\n",
    "list_vlu = [0,1,2,3,4,5]\n",
    "for i in range(0, len(list_vlu),2):\n",
    "    list_vlu[i],list_vlu[i+1]=list_vlu[i+1],list_vlu[i]\n",
    "    \n",
    "print(list_vlu)"
   ]
  },
  {
   "cell_type": "code",
   "execution_count": 39,
   "id": "recovered-filter",
   "metadata": {},
   "outputs": [
    {
     "data": {
      "text/plain": [
       "[11, 23, 45, 23, 11, 35]"
      ]
     },
     "execution_count": 39,
     "metadata": {},
     "output_type": "execute_result"
    }
   ],
   "source": [
    "# Write a Python program to select the odd items of a list.\n",
    "\n",
    "list_vlu = [11,23,45,23,64,22,11,24,10,12,8,35]\n",
    "new_list = []\n",
    "for i in list_vlu:\n",
    "    if i % 2 !=0:\n",
    "        new_list.append(i)\n",
    "new_list"
   ]
  },
  {
   "cell_type": "code",
   "execution_count": 55,
   "id": "prime-investment",
   "metadata": {},
   "outputs": [
    {
     "name": "stdout",
     "output_type": "stream",
     "text": [
      "53\n",
      "6\n"
     ]
    }
   ],
   "source": [
    "# Write a python program to get the absolute difference between n and 51. If n is greater than 51 return triple the absolute difference. \n",
    "\n",
    "x = 51\n",
    "n = int(input(\"Enter number: \"))\n",
    "if (x>=n):\n",
    "    print(x-n)\n",
    "elif(x<=n):\n",
    "    print((n-x)*3)"
   ]
  },
  {
   "cell_type": "code",
   "execution_count": 59,
   "id": "rising-pound",
   "metadata": {},
   "outputs": [
    {
     "name": "stdout",
     "output_type": "stream",
     "text": [
      "Enter number: 15\n",
      "15 is an odd integer\n"
     ]
    }
   ],
   "source": [
    "# Write a python program to check whether a given number is even or odd. \n",
    "\n",
    "n = int(input(\"Enter number: \"))  \n",
    "if (n % 2) == 0:  \n",
    "    print(\"{} is an even integer\".format(n))  \n",
    "else:  \n",
    "    print(\"{} is an odd integer\".format(n)) "
   ]
  },
  {
   "cell_type": "code",
   "execution_count": 66,
   "id": "fitting-recorder",
   "metadata": {},
   "outputs": [
    {
     "name": "stdout",
     "output_type": "stream",
     "text": [
      "Enter year:2016\n",
      "2016 is a leap year\n"
     ]
    }
   ],
   "source": [
    "# Write a python program to find whether a given year is a leap year or not\n",
    "\n",
    "year = int(input(\"Enter year:\"))\n",
    "if(year%4==0 and year%100!=0 or year%400==0):\n",
    "    print(\"{} is a leap year\".format(year))\n",
    "else:\n",
    "    print(\"{} isn't a leap year\".format(year))"
   ]
  },
  {
   "cell_type": "code",
   "execution_count": 73,
   "id": "intermediate-graduation",
   "metadata": {},
   "outputs": [
    {
     "name": "stdout",
     "output_type": "stream",
     "text": [
      "Enter age: 21\n",
      "Congratulation! You are eligible for casting your vote.\n"
     ]
    }
   ],
   "source": [
    "# Write a python program to read the age of a candidate and determine whether it is eligible for casting his/her own vote\n",
    "\n",
    "age = int(input(\"Enter age: \"))\n",
    "if age >=18:\n",
    "    print(\"Congratulation! You are eligible for casting your vote.\")\n",
    "else:\n",
    "    print(\"Sorry, You are not eligible to caste your vote.\")"
   ]
  },
  {
   "cell_type": "code",
   "execution_count": 81,
   "id": "developed-saver",
   "metadata": {},
   "outputs": [
    {
     "name": "stdout",
     "output_type": "stream",
     "text": [
      "Enter 1st number: 12\n",
      "Enter 2nd number: 25\n",
      "Enter 3rd number: 52\n",
      "1s Number = 12,\t 2nd Number = 25,\t 3rd Number = 52\n",
      "The 3rd Number is the greatest among three\n"
     ]
    }
   ],
   "source": [
    "# Write a python program to find the largest of three numbers.\n",
    "\n",
    "num1 = int(input(\"Enter 1st number: \"))\n",
    "num2 = int(input(\"Enter 2nd number: \"))\n",
    "num3 = int(input(\"Enter 3rd number: \"))\n",
    "\n",
    "print(\"1s Number = {},\\t 2nd Number = {},\\t 3rd Number = {}\".format(num1,num2,num3))\n",
    "if (num1 >= num2) and (num1 >= num3):\n",
    "    lnum = num1\n",
    "    print(\"The 1st Number is the greatest among three\")\n",
    "elif (num2 >= num1) and (num2 >= num3):\n",
    "    lnum = num2\n",
    "    print(\"The 2nd Number is the greatest among three\")\n",
    "else:\n",
    "    lnum = num3\n",
    "    print(\"The 3rd Number is the greatest among three\")"
   ]
  },
  {
   "cell_type": "code",
   "execution_count": 88,
   "id": "optimum-chocolate",
   "metadata": {},
   "outputs": [
    {
     "name": "stdout",
     "output_type": "stream",
     "text": [
      "Enter 1st triangle value: 50\n",
      "Enter 2nd triangle value: 50\n",
      "Enter 3rd triangle value: 60\n",
      "This is an isosceles triangle\n"
     ]
    }
   ],
   "source": [
    "# Write a python program to check whether a triangle is Equilateral, Isosceles or Scalene \n",
    "\n",
    "x = int(input(\"Enter 1st triangle value: \"))\n",
    "y = int(input(\"Enter 2nd triangle value: \"))\n",
    "z = int(input(\"Enter 3rd triangle value: \"))\n",
    "\n",
    "if x == y == z:\n",
    "    print(\"This is an Equilateral triangle\")\n",
    "elif x==y or y==z or z==x:\n",
    "    print(\"This is an isosceles triangle\")\n",
    "else:\n",
    "    print(\"This is an Scalene triangle\")"
   ]
  },
  {
   "cell_type": "code",
   "execution_count": null,
   "id": "preliminary-astronomy",
   "metadata": {},
   "outputs": [],
   "source": []
  },
  {
   "cell_type": "code",
   "execution_count": 84,
   "id": "sapphire-compromise",
   "metadata": {},
   "outputs": [],
   "source": []
  },
  {
   "cell_type": "code",
   "execution_count": null,
   "id": "square-fraction",
   "metadata": {},
   "outputs": [],
   "source": []
  },
  {
   "cell_type": "code",
   "execution_count": null,
   "id": "settled-isaac",
   "metadata": {},
   "outputs": [],
   "source": []
  },
  {
   "cell_type": "code",
   "execution_count": null,
   "id": "neutral-thickness",
   "metadata": {},
   "outputs": [],
   "source": []
  },
  {
   "cell_type": "code",
   "execution_count": null,
   "id": "uniform-chancellor",
   "metadata": {},
   "outputs": [],
   "source": []
  },
  {
   "cell_type": "code",
   "execution_count": null,
   "id": "subjective-balance",
   "metadata": {},
   "outputs": [],
   "source": []
  },
  {
   "cell_type": "code",
   "execution_count": null,
   "id": "ordered-domain",
   "metadata": {},
   "outputs": [],
   "source": []
  },
  {
   "cell_type": "code",
   "execution_count": null,
   "id": "entitled-there",
   "metadata": {},
   "outputs": [],
   "source": []
  }
 ],
 "metadata": {
  "kernelspec": {
   "display_name": "Python 3",
   "language": "python",
   "name": "python3"
  },
  "language_info": {
   "codemirror_mode": {
    "name": "ipython",
    "version": 3
   },
   "file_extension": ".py",
   "mimetype": "text/x-python",
   "name": "python",
   "nbconvert_exporter": "python",
   "pygments_lexer": "ipython3",
   "version": "3.9.7"
  }
 },
 "nbformat": 4,
 "nbformat_minor": 5
}
