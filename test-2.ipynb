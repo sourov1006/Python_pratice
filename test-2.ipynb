{
 "cells": [
  {
   "cell_type": "code",
   "execution_count": 10,
   "id": "partial-approach",
   "metadata": {},
   "outputs": [
    {
     "name": "stdout",
     "output_type": "stream",
     "text": [
      "Enter choice(1(add)/2(subtract)/3(multiply)/4(divide)): 3\n",
      "Enter first number: 10\n",
      "Enter second number: 2\n",
      "The Multiplication of 10 and 2 is:  20\n"
     ]
    }
   ],
   "source": [
    "# Write a program in python which is a Menu-Driven Program to perform a simple calculation. \n",
    "\n",
    "choice = input(\"Enter choice(1(add)/2(subtract)/3(multiply)/4(divide)): \")\n",
    "if choice in ('1', '2', '3', '4'):\n",
    "    num1 = int(input(\"Enter first number: \"))\n",
    "    num2 = int(input(\"Enter second number: \"))\n",
    "    if choice == '1':\n",
    "        add = num1+num2\n",
    "        print(\"The add of {} and {} is: \".format(num1,num2), add)\n",
    "    elif choice == '2':\n",
    "        subtract = num1-num2\n",
    "        print(\"The subtract of {} and {} is: \".format(num1,num2), subtract)\n",
    "    elif choice == '3':\n",
    "        multiply = num1*num2\n",
    "        print(\"The Multiplication of {} and {} is: \".format(num1,num2), multiply)\n",
    "    elif choice == '4':\n",
    "        divide = num1 / num2\n",
    "        print(\"The divide of {} and {} is: \".format(num1,num2), divide)\n",
    "else:\n",
    "    print(\"Invalid Input\")"
   ]
  },
  {
   "cell_type": "code",
   "execution_count": 16,
   "id": "fatal-savannah",
   "metadata": {},
   "outputs": [
    {
     "name": "stdout",
     "output_type": "stream",
     "text": [
      "Enter a character: k\n",
      "The alphabet is a consonant.\n"
     ]
    }
   ],
   "source": [
    "# Write a python program to check whether an alphabet is a vowel or consonant\n",
    "\n",
    "ch = input(\"Enter a character: \")\n",
    "if(ch=='A' or ch=='a' or ch=='E' or ch =='e' or ch=='I'\n",
    " or ch=='i' or ch=='O' or ch=='o' or ch=='U' or ch=='u'):\n",
    "    print(\"The alphabet is a Vowel.\")\n",
    "else:\n",
    "    print(\"The alphabet is a consonant.\")"
   ]
  },
  {
   "cell_type": "code",
   "execution_count": 22,
   "id": "expressed-cross",
   "metadata": {},
   "outputs": [
    {
     "name": "stdout",
     "output_type": "stream",
     "text": [
      "Enter Rooll No: 784\n",
      "Enter Student Name: James\n",
      "Enter marks Physics : 70\n",
      "Enter marks Chemistry: 80\n",
      "Enter marks Computer Application: 90\n",
      "First Division\n",
      "Total Marks =  240\n",
      "Percentage =  80.0\n"
     ]
    }
   ],
   "source": [
    "# Write a python program to read marks of three subjects and calculate the total, percentage and division\n",
    "\n",
    "roll = int(input(\"Enter Rooll No: \"))\n",
    "name = input(\"Enter Student Name: \")\n",
    "physics= int(input(\"Enter marks Physics : \"))\n",
    "chemistry= int(input(\"Enter marks Chemistry: \"))\n",
    "computer_application= int(input(\"Enter marks Computer Application: \"))\n",
    "total =  physics + chemistry + computer_application\n",
    "percentage = total/3\n",
    "if(percentage>=70):\n",
    "    print(\"First Division\")\n",
    "elif(percentage<70 and percentage>=50):\n",
    "    print(\"Second Division\")\n",
    "elif(percentage<50 and percentage>=35):\n",
    "    print(\"Third Division\")\n",
    "else:\n",
    "    print(\"Fail\")\n",
    "print(\"Total Marks = \",total)\n",
    "print(\"Percentage = \",percentage)"
   ]
  },
  {
   "cell_type": "code",
   "execution_count": 24,
   "id": "perfect-butler",
   "metadata": {},
   "outputs": [
    {
     "name": "stdout",
     "output_type": "stream",
     "text": [
      "1\n",
      "2\n",
      "3\n",
      "4\n",
      "5\n",
      "6\n",
      "7\n",
      "8\n",
      "9\n",
      "10\n"
     ]
    }
   ],
   "source": [
    "# Write a program in python to display the first 10 natural numbers.\n",
    "\n",
    "for i in range(1,11):\n",
    "    print(i)"
   ]
  },
  {
   "cell_type": "code",
   "execution_count": 36,
   "id": "natural-sending",
   "metadata": {},
   "outputs": [
    {
     "name": "stdout",
     "output_type": "stream",
     "text": [
      "Enter Number: 7\n",
      "The first 7 natural number is:\n",
      "1\n",
      "2\n",
      "3\n",
      "4\n",
      "5\n",
      "6\n",
      "7\n",
      "The Sum of Natural Number up to 28 terms:  28\n"
     ]
    }
   ],
   "source": [
    "# Write a program in python to display n terms of natural number and their sum.\n",
    "\n",
    "n = int(input(\"Enter Number: \"))\n",
    "sum = 0\n",
    "print(\"The first {} natural number is:\".format(i))\n",
    "for i in range(1,n+1):\n",
    "    sum += i\n",
    "    print(i)\n",
    "print(\"The Sum of Natural Number up to {} terms: \".format(sum),sum)"
   ]
  },
  {
   "cell_type": "code",
   "execution_count": 39,
   "id": "interim-sterling",
   "metadata": {},
   "outputs": [
    {
     "name": "stdout",
     "output_type": "stream",
     "text": [
      "Input number of terms: 5\n",
      "Number is: 1 and cube of the 1 is :  1\n",
      "Number is: 2 and cube of the 2 is :  8\n",
      "Number is: 3 and cube of the 3 is :  27\n",
      "Number is: 4 and cube of the 4 is :  64\n",
      "Number is: 5 and cube of the 5 is :  125\n"
     ]
    }
   ],
   "source": [
    "# Write a program in python to display the cube of the number up to given an integer.  \n",
    "\n",
    "n = int(input(\"Input number of terms: \"))\n",
    "for i in range(1,n+1):\n",
    "    cube = i*i*i\n",
    "    print(\"Number is: {} and cube of the {} is : \".format(i,i),cube)"
   ]
  },
  {
   "cell_type": "code",
   "execution_count": 41,
   "id": "theoretical-incident",
   "metadata": {},
   "outputs": [
    {
     "name": "stdout",
     "output_type": "stream",
     "text": [
      "Input the number (Table to be calculated): 15\n",
      "15 X 1 = 15\n",
      "15 X 2 = 30\n",
      "15 X 3 = 45\n",
      "15 X 4 = 60\n",
      "15 X 5 = 75\n",
      "15 X 6 = 90\n",
      "15 X 7 = 105\n",
      "15 X 8 = 120\n",
      "15 X 9 = 135\n",
      "15 X 10 = 150\n"
     ]
    }
   ],
   "source": [
    "# Write a program in python to display the multiplication table of a given integer. \n",
    "\n",
    "num = int(input(\"Input the number (Table to be calculated): \"))\n",
    "for i in range(1, 11):\n",
    "    print(num, \"X\", i, \"=\", num*i)"
   ]
  },
  {
   "cell_type": "code",
   "execution_count": 55,
   "id": "negative-microwave",
   "metadata": {},
   "outputs": [
    {
     "name": "stdout",
     "output_type": "stream",
     "text": [
      "Enter value: 5\n",
      "* \n",
      "* * \n",
      "* * * \n",
      "* * * * \n",
      "* * * * * \n"
     ]
    }
   ],
   "source": [
    "# Write a program in python to display the pattern like right angle triangle using an asterisk.\n",
    "\n",
    "n = int(input(\"Enter value: \"))\n",
    "for i in range(1, n+1):\n",
    "    for j in range(1, i+1):\n",
    "        print(\"*\",end=\" \")\n",
    "    print()"
   ]
  },
  {
   "cell_type": "code",
   "execution_count": 57,
   "id": "skilled-expert",
   "metadata": {},
   "outputs": [
    {
     "name": "stdout",
     "output_type": "stream",
     "text": [
      "Enter value: 5\n",
      "1 \n",
      "2 2 \n",
      "3 3 3 \n",
      "4 4 4 4 \n",
      "5 5 5 5 5 \n"
     ]
    }
   ],
   "source": [
    "# Write a program in python to make such a pattern like right angle triangle with a number which will repeat a number in a row.\n",
    "\n",
    "n = int(input(\"Enter value: \"))\n",
    "for i in range(1, n+1):\n",
    "    for j in range(1, i+1):\n",
    "        print(i,end=\" \")\n",
    "    print()"
   ]
  },
  {
   "cell_type": "code",
   "execution_count": 60,
   "id": "sexual-authentication",
   "metadata": {},
   "outputs": [
    {
     "name": "stdout",
     "output_type": "stream",
     "text": [
      "Enter value: 4\n",
      "1 \n",
      "2 3 \n",
      "4 5 6 \n",
      "7 8 9 10 \n"
     ]
    }
   ],
   "source": [
    "# Write a program in python to make such a pattern like a pyramid with numbers increased by 1.\n",
    "\n",
    "n = int(input(\"Enter value: \"))\n",
    "number = 1\n",
    "\n",
    "for i in range(1, n+1):\n",
    "    for j in range(1, i+1):\n",
    "        print(number, end=\" \")\n",
    "        number += 1\n",
    "    print()"
   ]
  },
  {
   "cell_type": "code",
   "execution_count": 75,
   "id": "sublime-discharge",
   "metadata": {},
   "outputs": [
    {
     "name": "stdout",
     "output_type": "stream",
     "text": [
      "Enter the range of number:5\n",
      "9\n",
      "99\n",
      "999\n",
      "9999\n",
      "99999\n",
      "The sum of the series =  111105\n"
     ]
    }
   ],
   "source": [
    "# Write a program in python to display the sum of the series [ 9 + 99 + 999 + 9999 ...].\n",
    "\n",
    "n=int(input(\"Enter the range of number:\"))\n",
    "sum=0\n",
    "p=9\n",
    "for i in range(1,n+1):\n",
    "    print(p)\n",
    "    sum += p\n",
    "    p=(p*10)+9\n",
    "print(\"The sum of the series = \",sum)"
   ]
  },
  {
   "cell_type": "code",
   "execution_count": 81,
   "id": "consolidated-vampire",
   "metadata": {},
   "outputs": [
    {
     "name": "stdout",
     "output_type": "stream",
     "text": [
      "Enter number: 153\n",
      "153 is an Armstrong number\n"
     ]
    }
   ],
   "source": [
    "# Write a python program to check whether a given number is an armstrong number or not.\n",
    "\n",
    "\n",
    "num = int(input(\"Enter number: \"))\n",
    "sum = 0\n",
    "temp = num\n",
    "while temp > 0:\n",
    "    digit = temp % 10\n",
    "    sum += digit ** 3\n",
    "    temp //= 10\n",
    "if num == sum:\n",
    "    print(num,\"is an Armstrong number\")\n",
    "else:\n",
    "    print(num,\"is not an Armstrong number\")"
   ]
  },
  {
   "cell_type": "code",
   "execution_count": null,
   "id": "compliant-channel",
   "metadata": {},
   "outputs": [],
   "source": [
    "# 33(i dont understand it):Write a python program to display Pascal’s triangle. "
   ]
  },
  {
   "cell_type": "code",
   "execution_count": 9,
   "id": "checked-truth",
   "metadata": {},
   "outputs": [
    {
     "name": "stdout",
     "output_type": "stream",
     "text": [
      "Enter number 5\n",
      "sum of the first 5 integers is:  15\n"
     ]
    }
   ],
   "source": [
    "# The print statement after the for loop displays the sum of first 5 elements of the tuple numbers.\n",
    "\n",
    "s = 0\n",
    "n = int(input(\"Enter number: \"))\n",
    "for i in range(1, n+1):\n",
    "    s += i\n",
    "print(\"sum of the first {} integers is: \".format(i), s)"
   ]
  },
  {
   "cell_type": "code",
   "execution_count": 11,
   "id": "regional-authorization",
   "metadata": {},
   "outputs": [
    {
     "name": "stdout",
     "output_type": "stream",
     "text": [
      "Enter number: 5\n",
      "0\n",
      "1\n",
      "2\n",
      "3\n",
      "5\n"
     ]
    }
   ],
   "source": [
    "# The continue statement is used in a while or for loop to take the control to the top of the loop without executing the rest statements inside the loop\n",
    "\n",
    "\n",
    "n = int(input(\"Enter number: \"))\n",
    "for i in range(0,n+1):\n",
    "    if(i==4):\n",
    "        continue\n",
    "    print(i)"
   ]
  },
  {
   "cell_type": "code",
   "execution_count": 15,
   "id": "experienced-habitat",
   "metadata": {},
   "outputs": [
    {
     "name": "stdout",
     "output_type": "stream",
     "text": [
      "Enter string: SAGACITI AI\n",
      "S  A  G  A  C  I  T  I     A  I  "
     ]
    }
   ],
   "source": [
    "# Write a while loop to display each character from a string and if a character is a space then terminate the loop.\n",
    "\n",
    "string =  input(\"Enter string: \") \n",
    "for i in range(0, len(string)):  \n",
    "    print(string[i], end=\"  \") "
   ]
  },
  {
   "cell_type": "code",
   "execution_count": null,
   "id": "difficult-pearl",
   "metadata": {},
   "outputs": [],
   "source": [
    "#37(i dont understand it):Write a while loop to display each character from a string and if a character is a space, then don’t display it and move to the next character.\n",
    "\n"
   ]
  },
  {
   "cell_type": "code",
   "execution_count": 16,
   "id": "heated-exchange",
   "metadata": {},
   "outputs": [
    {
     "name": "stdout",
     "output_type": "stream",
     "text": [
      "0\n",
      "2\n",
      "4\n",
      "6\n",
      "8\n",
      "10\n"
     ]
    }
   ],
   "source": [
    "# Create a range from 0 to 10 with steps of 2.\n",
    "\n",
    "for i in range(0,11,2):\n",
    "    print(i)"
   ]
  },
  {
   "cell_type": "code",
   "execution_count": 18,
   "id": "failing-french",
   "metadata": {},
   "outputs": [
    {
     "data": {
      "text/plain": [
       "[100, 110, 120, 130, 140, 150, 160]"
      ]
     },
     "execution_count": 18,
     "metadata": {},
     "output_type": "execute_result"
    }
   ],
   "source": [
    "# Create a range from 100 to 160 with steps of 10. Then print it as a list.\n",
    "\n",
    "list_vlu = []\n",
    "for i in range(100,161,10):\n",
    "    list_vlu.append(i)\n",
    "list_vlu"
   ]
  },
  {
   "cell_type": "code",
   "execution_count": 36,
   "id": "spatial-motivation",
   "metadata": {},
   "outputs": [
    {
     "name": "stdout",
     "output_type": "stream",
     "text": [
      "Enter 1st range value: 1300\n",
      "Enter 2nd range value: 700\n",
      "stop value included\n"
     ]
    },
    {
     "data": {
      "text/plain": [
       "[700, 800, 900, 1000, 1100, 1200]"
      ]
     },
     "execution_count": 36,
     "metadata": {},
     "output_type": "execute_result"
    }
   ],
   "source": [
    "# Can you create a list from 1300 to 700 with descending steps of 100? Is your stop value included in the list?\n",
    "\n",
    "list_vlu = []\n",
    "start = int(input(\"Enter 1st range value: \"))\n",
    "stop = int(input(\"Enter 2nd range value: \"))\n",
    "for i in range(stop,start,100):\n",
    "    list_vlu.append(i)\n",
    "if(num2==700):\n",
    "    print(\"stop value included\")\n",
    "else:\n",
    "    print(\"stop value not included\")\n",
    "list_vlu"
   ]
  },
  {
   "cell_type": "code",
   "execution_count": 31,
   "id": "outside-carol",
   "metadata": {},
   "outputs": [
    {
     "name": "stdout",
     "output_type": "stream",
     "text": [
      "0\n",
      "1\n",
      "2\n",
      "3\n",
      "4\n",
      "5\n",
      "6\n",
      "7\n",
      "8\n",
      "9\n",
      "10\n",
      "11\n",
      "12\n",
      "13\n",
      "14\n",
      "15\n",
      "16\n",
      "17\n",
      "18\n",
      "19\n",
      "20\n",
      "21\n",
      "22\n",
      "23\n",
      "24\n",
      "25\n",
      "26\n",
      "27\n",
      "28\n",
      "29\n",
      "30\n",
      "31\n",
      "32\n",
      "33\n",
      "34\n",
      "35\n",
      "36\n",
      "37\n",
      "38\n",
      "39\n",
      "40\n",
      "41\n",
      "42\n",
      "43\n",
      "44\n",
      "45\n",
      "46\n",
      "47\n",
      "48\n",
      "49\n"
     ]
    }
   ],
   "source": [
    "# Create a range from 0 to 50, excluding 50.\n",
    "\n",
    "for i in range(0,50):\n",
    "    print(i)"
   ]
  },
  {
   "cell_type": "code",
   "execution_count": null,
   "id": "residential-connection",
   "metadata": {},
   "outputs": [],
   "source": []
  }
 ],
 "metadata": {
  "kernelspec": {
   "display_name": "Python 3",
   "language": "python",
   "name": "python3"
  },
  "language_info": {
   "codemirror_mode": {
    "name": "ipython",
    "version": 3
   },
   "file_extension": ".py",
   "mimetype": "text/x-python",
   "name": "python",
   "nbconvert_exporter": "python",
   "pygments_lexer": "ipython3",
   "version": "3.9.7"
  }
 },
 "nbformat": 4,
 "nbformat_minor": 5
}
